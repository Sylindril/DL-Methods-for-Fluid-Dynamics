{
  "cells": [
    {
      "cell_type": "code",
      "execution_count": 1,
      "metadata": {
        "colab": {
          "base_uri": "https://localhost:8080/"
        },
        "id": "J6ev2EUTccT2",
        "outputId": "e4cacce7-f970-48d4-eb51-87f3d5c2b6e8"
      },
      "outputs": [
        {
          "name": "stdout",
          "output_type": "stream",
          "text": [
            "Mounted at /content/gdrive\n"
          ]
        }
      ],
      "source": [
        "from google.colab import drive\n",
        "drive.mount('/content/gdrive')"
      ]
    },
    {
      "cell_type": "code",
      "execution_count": 73,
      "metadata": {
        "colab": {
          "base_uri": "https://localhost:8080/"
        },
        "id": "2bg7jJEBctd1",
        "outputId": "561635e8-82e7-413e-9f11-7b185996cf0d"
      },
      "outputs": [
        {
          "name": "stdout",
          "output_type": "stream",
          "text": [
            "__pycache__  solvers.py  TrainingData_SD.ipynb\n"
          ]
        }
      ],
      "source": [
        "!ls \"/content/gdrive/My Drive/Research/ML for fluid dynamics/RS_AK_code\""
      ]
    },
    {
      "cell_type": "code",
      "execution_count": 5,
      "metadata": {
        "id": "hkGIoUn24j70"
      },
      "outputs": [],
      "source": [
        "path = F\"/content/gdrive/My Drive/Research/ML for fluid dynamics/RS_AK_code\""
      ]
    },
    {
      "cell_type": "code",
      "execution_count": 6,
      "metadata": {
        "id": "D0_z3-dK61Fz"
      },
      "outputs": [],
      "source": [
        "import sys\n",
        "# Append the directory to your python path using sys\n",
        "sys.path.append(path)"
      ]
    },
    {
      "cell_type": "code",
      "execution_count": 53,
      "metadata": {
        "id": "eZ3-JgF85wkP",
        "tags": []
      },
      "outputs": [],
      "source": [
        "import numpy as np\n",
        "import solvers\n",
        "from plotly import graph_objs as go\n",
        "from plotly.subplots import make_subplots\n",
        "from tqdm.notebook import trange"
      ]
    },
    {
      "cell_type": "code",
      "execution_count": 51,
      "metadata": {
        "id": "01kDVTiO5wkR"
      },
      "outputs": [],
      "source": [
        "#Create a list of parameters to iterate through\n",
        "\n",
        "#Global parameters:\n",
        "L = 43\n",
        "h = 1 # grid spacing\n",
        "N_g = int(L/h)\n",
        "N = 1 # Number of Particles\n",
        "DatasetSize = 100\n",
        "#Local Parameters\n",
        "LocalParameterArray = np.zeros((4, DatasetSize))\n",
        "#Generating Sizes\n",
        "a_values = np.around(np.arange(0.1, 21.6,0.1), decimals = 1)\n",
        "LocalParameterArray[0] = np.random.choice(a_values, size = DatasetSize)\n",
        "# print(LocalParameterArray)\n",
        "\n",
        "#Generating Positions\n",
        "#r = [rx, ry, N_g/2]\n",
        "LocalParameterArray[2:] = np.random.randint(0, N_g, size = (2, DatasetSize))\n",
        "# print(LocalParameterArray)\n",
        "\n",
        "#Generating Force amplitude\n",
        "f_values = np.around(np.arange(0.1, 50.1,0.1), decimals = 1)\n",
        "LocalParameterArray[1] = np.random.choice(f_values, size = DatasetSize)\n",
        "# print(LocalParameterArray)\n",
        "\n",
        "\n",
        "parameters = {'h':h, 'Lx':L, 'Ly':L, 'Lz':L, 'N':N, 'N_g':N_g, 'indexingConvention':'ij' }\n",
        "sim = solvers.Stokes3D(parameters)"
      ]
    },
    {
      "cell_type": "code",
      "execution_count": 68,
      "metadata": {
        "colab": {
          "base_uri": "https://localhost:8080/",
          "height": 49,
          "referenced_widgets": [
            "2167100a074e467a8c1f6ebcdd4212d7",
            "7737eb3a0c2a492e8945021ceb319b7f",
            "1a5ebd267a7943b8b70111bb47d147f7",
            "18cdb00b6a334914b5e24eee93278e7b",
            "e7771e977d174a7a9abcba2413ded84e",
            "434a499bfb194fe2b5ed3be8f7d57992",
            "173b5a2890264aa9bae9530ffd87a398",
            "aea03b2d71784b1198ff54c3bcdee72a",
            "13d479801c0b4b10aeb9d1922c8dbede",
            "2b54ea66c01647728bf0f133f6b462cd",
            "bdccc6a9d53a4d0888e5229fcf77d47f"
          ]
        },
        "id": "-gJZDFTU5wkR",
        "outputId": "65424ef3-adb9-48eb-dd6d-712fa9374456"
      },
      "outputs": [
        {
          "data": {
            "application/vnd.jupyter.widget-view+json": {
              "model_id": "2167100a074e467a8c1f6ebcdd4212d7",
              "version_major": 2,
              "version_minor": 0
            },
            "text/plain": [
              "  0%|          | 0/100 [00:00<?, ?it/s]"
            ]
          },
          "metadata": {},
          "output_type": "display_data"
        }
      ],
      "source": [
        "# vImages = np.zeros((DatasetSize*3, 15,15,15))\n",
        "vImages = np.zeros((DatasetSize, int(1+(L-1)/3),int(1+(L-1)/3)))\n",
        "v_train = np.zeros((DatasetSize, int(1+(L-1)/3)*int(1+(L-1)/3)))\n",
        "\n",
        "for i in range(DatasetSize):\n",
        "\n",
        "    a = LocalParameterArray[0][i]\n",
        "    par_pl = int(N_g/2)\n",
        "    r = np.array((LocalParameterArray[2][i], LocalParameterArray[3][i], sim.xx[par_pl]))\n",
        "    F = np.array((0,0, LocalParameterArray[1][i]))\n",
        "    sigma = a/(np.sqrt(3))\n",
        "    vx, vy, vz = sim.vCalc(a, sigma, r, F)\n",
        "\n",
        "\n",
        "    vx = np.array((sim.vx[:, par_pl, :].reshape(N_g, N_g)))\n",
        "    vy = np.array((sim.vx[:, par_pl, :].reshape(N_g, N_g)))\n",
        "    vz = np.array((sim.vz[:, par_pl, :].reshape(N_g, N_g)))\n",
        "    if i == 0:#Only calculate this the first time\n",
        "        xx = np.array((sim.x[:, par_pl, :].reshape(N_g, N_g)))\n",
        "        xx = np.array((sim.y[:, par_pl, :].reshape(N_g, N_g)))\n",
        "        zz = np.array((sim.z[:, par_pl, :].reshape(N_g, N_g)))\n",
        "\n",
        "    v_amp = np.sqrt(vx**2+vy**2+vz**2)\n",
        "    v_amp = v_amp[::3,::3]\n",
        "\n",
        "    vImages[i,:] = v_amp\n",
        "    v_train[i,:] = v_amp.flatten()\n",
        "\n",
        "    # vImages[3*i] = vx[::3,::3]\n",
        "    # vImages[3*i +1] = vy[::3,::3]\n",
        "    # vImages[3*i+2] = vz[::3,::3]"
      ]
    },
    {
      "cell_type": "code",
      "execution_count": 69,
      "metadata": {
        "colab": {
          "base_uri": "https://localhost:8080/"
        },
        "id": "tbWVSyUOCUks",
        "outputId": "d1b4ba6e-76d3-421d-d1f1-d974816d8b41"
      },
      "outputs": [
        {
          "data": {
            "text/plain": [
              "(100, 225)"
            ]
          },
          "execution_count": 69,
          "metadata": {},
          "output_type": "execute_result"
        }
      ],
      "source": [
        "v_train.shape"
      ]
    },
    {
      "cell_type": "code",
      "execution_count": 55,
      "metadata": {
        "id": "zwgR44sa9BAe"
      },
      "outputs": [],
      "source": [
        "v_amp = np.sqrt(vx**2+vy**2+vz**2)\n",
        "# v_amp = v_amp[::3,::3]\n",
        "# v_amp = v_amp.flatten()"
      ]
    },
    {
      "cell_type": "code",
      "execution_count": 72,
      "metadata": {
        "colab": {
          "base_uri": "https://localhost:8080/",
          "height": 542
        },
        "id": "QXrrqJ_B8_p3",
        "outputId": "92880696-bc12-43c9-bb51-9ced649d18cc"
      },
      "outputs": [
        {
          "data": {
            "text/html": [
              "<html>\n",
              "<head><meta charset=\"utf-8\" /></head>\n",
              "<body>\n",
              "    <div>            <script src=\"https://cdnjs.cloudflare.com/ajax/libs/mathjax/2.7.5/MathJax.js?config=TeX-AMS-MML_SVG\"></script><script type=\"text/javascript\">if (window.MathJax && window.MathJax.Hub && window.MathJax.Hub.Config) {window.MathJax.Hub.Config({SVG: {font: \"STIX-Web\"}});}</script>                <script type=\"text/javascript\">window.PlotlyConfig = {MathJaxConfig: 'local'};</script>\n",
              "        <script charset=\"utf-8\" src=\"https://cdn.plot.ly/plotly-2.24.1.min.js\"></script>                <div id=\"ff4f9a02-033c-48ed-8e11-6a2bfcab6def\" class=\"plotly-graph-div\" style=\"height:525px; width:1000px;\"></div>            <script type=\"text/javascript\">                                    window.PLOTLYENV=window.PLOTLYENV || {};                                    if (document.getElementById(\"ff4f9a02-033c-48ed-8e11-6a2bfcab6def\")) {                    Plotly.newPlot(                        \"ff4f9a02-033c-48ed-8e11-6a2bfcab6def\",                        [{\"colorscale\":[[0.0,\"#440154\"],[0.1111111111111111,\"#482878\"],[0.2222222222222222,\"#3e4989\"],[0.3333333333333333,\"#31688e\"],[0.4444444444444444,\"#26828e\"],[0.5555555555555556,\"#1f9e89\"],[0.6666666666666666,\"#35b779\"],[0.7777777777777778,\"#6ece58\"],[0.8888888888888888,\"#b5de2b\"],[1.0,\"#fde725\"]],\"showscale\":true,\"x\":[0,1,2,3,4,5,6,7,8,9,10,11,12,13,14],\"y\":[0,1,2,3,4,5,6,7,8,9,10,11,12,13,14],\"z\":[[0.004588713287727774,0.005233463479571672,0.006409896047974731,0.007511665561940885,0.00808087751442567,0.00791278225845681,0.007260360974664919,0.006873865325488477,0.007260360974664918,0.007912782258456808,0.008080877514425672,0.007511665561940884,0.006409896047974733,0.005233463479571672,0.004588713287727774],[0.0011716518329379047,0.0021687138289016557,0.003379553735350348,0.004202909977755301,0.004343056869533018,0.003632509007372802,0.0021370441994177304,0.0006371635700329433,0.0021370441994177296,0.0036325090073728015,0.004343056869533018,0.004202909977755301,0.0033795537353503483,0.002168713828901657,0.0011716518329379043],[0.0015165221316303839,0.002095306843484236,0.003004869852649455,0.003845678376321536,0.004454548326932615,0.0047839345011907695,0.004894722435849411,0.0049097846435189095,0.004894722435849413,0.004783934501190771,0.004454548326932613,0.003845678376321537,0.003004869852649457,0.0020953068434842372,0.0015165221316303845],[0.0030238438860440055,0.0032784193989773562,0.003850222196619189,0.004619184078677148,0.005450325026282448,0.006198558456658859,0.006721139580927042,0.006909071403071507,0.006721139580927043,0.006198558456658863,0.005450325026282444,0.004619184078677151,0.00385022219661919,0.0032784193989773554,0.003023843886044006],[0.0032823598106964994,0.003499864213936707,0.004010742696494666,0.004734263353046268,0.00554773479394129,0.006297820940572802,0.006828142227464883,0.007019783022452673,0.006828142227464885,0.006297820940572807,0.0055477347939412855,0.00473426335304627,0.004010742696494669,0.0034998642139367057,0.0032823598106964994],[0.0022960981072357276,0.002630980517458605,0.0032782235374742195,0.003990646991849059,0.00460275765030453,0.005027087859469188,0.005252952968756432,0.005319692778052905,0.0052529529687564335,0.005027087859469193,0.004602757650304527,0.003990646991849062,0.00327822353747422,0.002630980517458605,0.0022960981072357276],[0.00029329800162867126,0.00155763167522701,0.0026811540439547004,0.003435788455663908,0.0036443083127881064,0.003223182167914681,0.0023389688634954876,0.0017460464022064424,0.002338968863495489,0.003223182167914682,0.003644308312788105,0.0034357884556639076,0.0026811540439547,0.0015576316752270091,0.0002932980016286704],[0.0027676079072186453,0.0034202713480387223,0.0044737620745657946,0.0053182407841671255,0.005588212957971485,0.005142124585224505,0.004228228261471312,0.0036886176265210338,0.004228228261471311,0.005142124585224503,0.0055882129579714855,0.005318240784167125,0.004473762074565795,0.003420271348038723,0.0027676079072186453],[0.0060950209088128085,0.006666728095630804,0.007807814540911836,0.009054601701687062,0.01002235459568862,0.010515597454001697,0.010612509631079112,0.010590422217979225,0.01061250963107911,0.010515597454001695,0.01002235459568862,0.00905460170168706,0.007807814540911838,0.006666728095630804,0.0060950209088128085],[0.009229109153308298,0.009859736973625651,0.011262398435836988,0.01309485037022938,0.014970414585795884,0.016537553592672765,0.017551627147937024,0.017898531834827345,0.01755162714793702,0.016537553592672765,0.01497041458579588,0.01309485037022938,0.01126239843583699,0.009859736973625651,0.009229109153308298],[0.011512193571743917,0.01222318426485697,0.013896591654742493,0.01627827801635608,0.018973667249347865,0.021474715033237307,0.023251233470723144,0.02389474768791507,0.02325123347072314,0.021474715033237307,0.018973667249347865,0.01627827801635608,0.013896591654742498,0.01222318426485697,0.011512193571743917],[0.012385579406664841,0.013148055437210128,0.014977611549149221,0.017656019900942444,0.02078064051625689,0.023761499176293974,0.025924336118494165,0.02671692458671032,0.025924336118494165,0.023761499176293974,0.02078064051625689,0.01765601990094244,0.014977611549149226,0.013148055437210125,0.012385579406664841],[0.011572761163680412,0.012333922554055788,0.014133181255247302,0.01671624966542324,0.019675405173388998,0.022458095303167433,0.024457320966857536,0.025186280354365424,0.024457320966857536,0.02245809530316744,0.019675405173388998,0.01671624966542324,0.014133181255247304,0.012333922554055788,0.011572761163680412],[0.009202631605993624,0.00991435764968811,0.011501836273587671,0.013598951019241346,0.015790484073072625,0.01767344828037324,0.018927471714643058,0.019364791617235637,0.018927471714643054,0.01767344828037324,0.015790484073072625,0.013598951019241343,0.011501836273587671,0.009914357649688106,0.009202631605993623],[0.005808838236855681,0.0064597191273376865,0.007733328010255707,0.009088664996360478,0.010080704364726776,0.010481420035482773,0.010418335224173401,0.010312272986750267,0.010418335224173398,0.010481420035482773,0.010080704364726776,0.009088664996360477,0.007733328010255709,0.0064597191273376865,0.005808838236855681]],\"type\":\"heatmap\",\"xaxis\":\"x\",\"yaxis\":\"y\"}],                        {\"template\":{\"data\":{\"histogram2dcontour\":[{\"type\":\"histogram2dcontour\",\"colorbar\":{\"outlinewidth\":0,\"ticks\":\"\"},\"colorscale\":[[0.0,\"#0d0887\"],[0.1111111111111111,\"#46039f\"],[0.2222222222222222,\"#7201a8\"],[0.3333333333333333,\"#9c179e\"],[0.4444444444444444,\"#bd3786\"],[0.5555555555555556,\"#d8576b\"],[0.6666666666666666,\"#ed7953\"],[0.7777777777777778,\"#fb9f3a\"],[0.8888888888888888,\"#fdca26\"],[1.0,\"#f0f921\"]]}],\"choropleth\":[{\"type\":\"choropleth\",\"colorbar\":{\"outlinewidth\":0,\"ticks\":\"\"}}],\"histogram2d\":[{\"type\":\"histogram2d\",\"colorbar\":{\"outlinewidth\":0,\"ticks\":\"\"},\"colorscale\":[[0.0,\"#0d0887\"],[0.1111111111111111,\"#46039f\"],[0.2222222222222222,\"#7201a8\"],[0.3333333333333333,\"#9c179e\"],[0.4444444444444444,\"#bd3786\"],[0.5555555555555556,\"#d8576b\"],[0.6666666666666666,\"#ed7953\"],[0.7777777777777778,\"#fb9f3a\"],[0.8888888888888888,\"#fdca26\"],[1.0,\"#f0f921\"]]}],\"heatmap\":[{\"type\":\"heatmap\",\"colorbar\":{\"outlinewidth\":0,\"ticks\":\"\"},\"colorscale\":[[0.0,\"#0d0887\"],[0.1111111111111111,\"#46039f\"],[0.2222222222222222,\"#7201a8\"],[0.3333333333333333,\"#9c179e\"],[0.4444444444444444,\"#bd3786\"],[0.5555555555555556,\"#d8576b\"],[0.6666666666666666,\"#ed7953\"],[0.7777777777777778,\"#fb9f3a\"],[0.8888888888888888,\"#fdca26\"],[1.0,\"#f0f921\"]]}],\"heatmapgl\":[{\"type\":\"heatmapgl\",\"colorbar\":{\"outlinewidth\":0,\"ticks\":\"\"},\"colorscale\":[[0.0,\"#0d0887\"],[0.1111111111111111,\"#46039f\"],[0.2222222222222222,\"#7201a8\"],[0.3333333333333333,\"#9c179e\"],[0.4444444444444444,\"#bd3786\"],[0.5555555555555556,\"#d8576b\"],[0.6666666666666666,\"#ed7953\"],[0.7777777777777778,\"#fb9f3a\"],[0.8888888888888888,\"#fdca26\"],[1.0,\"#f0f921\"]]}],\"contourcarpet\":[{\"type\":\"contourcarpet\",\"colorbar\":{\"outlinewidth\":0,\"ticks\":\"\"}}],\"contour\":[{\"type\":\"contour\",\"colorbar\":{\"outlinewidth\":0,\"ticks\":\"\"},\"colorscale\":[[0.0,\"#0d0887\"],[0.1111111111111111,\"#46039f\"],[0.2222222222222222,\"#7201a8\"],[0.3333333333333333,\"#9c179e\"],[0.4444444444444444,\"#bd3786\"],[0.5555555555555556,\"#d8576b\"],[0.6666666666666666,\"#ed7953\"],[0.7777777777777778,\"#fb9f3a\"],[0.8888888888888888,\"#fdca26\"],[1.0,\"#f0f921\"]]}],\"surface\":[{\"type\":\"surface\",\"colorbar\":{\"outlinewidth\":0,\"ticks\":\"\"},\"colorscale\":[[0.0,\"#0d0887\"],[0.1111111111111111,\"#46039f\"],[0.2222222222222222,\"#7201a8\"],[0.3333333333333333,\"#9c179e\"],[0.4444444444444444,\"#bd3786\"],[0.5555555555555556,\"#d8576b\"],[0.6666666666666666,\"#ed7953\"],[0.7777777777777778,\"#fb9f3a\"],[0.8888888888888888,\"#fdca26\"],[1.0,\"#f0f921\"]]}],\"mesh3d\":[{\"type\":\"mesh3d\",\"colorbar\":{\"outlinewidth\":0,\"ticks\":\"\"}}],\"scatter\":[{\"fillpattern\":{\"fillmode\":\"overlay\",\"size\":10,\"solidity\":0.2},\"type\":\"scatter\"}],\"parcoords\":[{\"type\":\"parcoords\",\"line\":{\"colorbar\":{\"outlinewidth\":0,\"ticks\":\"\"}}}],\"scatterpolargl\":[{\"type\":\"scatterpolargl\",\"marker\":{\"colorbar\":{\"outlinewidth\":0,\"ticks\":\"\"}}}],\"bar\":[{\"error_x\":{\"color\":\"#2a3f5f\"},\"error_y\":{\"color\":\"#2a3f5f\"},\"marker\":{\"line\":{\"color\":\"#E5ECF6\",\"width\":0.5},\"pattern\":{\"fillmode\":\"overlay\",\"size\":10,\"solidity\":0.2}},\"type\":\"bar\"}],\"scattergeo\":[{\"type\":\"scattergeo\",\"marker\":{\"colorbar\":{\"outlinewidth\":0,\"ticks\":\"\"}}}],\"scatterpolar\":[{\"type\":\"scatterpolar\",\"marker\":{\"colorbar\":{\"outlinewidth\":0,\"ticks\":\"\"}}}],\"histogram\":[{\"marker\":{\"pattern\":{\"fillmode\":\"overlay\",\"size\":10,\"solidity\":0.2}},\"type\":\"histogram\"}],\"scattergl\":[{\"type\":\"scattergl\",\"marker\":{\"colorbar\":{\"outlinewidth\":0,\"ticks\":\"\"}}}],\"scatter3d\":[{\"type\":\"scatter3d\",\"line\":{\"colorbar\":{\"outlinewidth\":0,\"ticks\":\"\"}},\"marker\":{\"colorbar\":{\"outlinewidth\":0,\"ticks\":\"\"}}}],\"scattermapbox\":[{\"type\":\"scattermapbox\",\"marker\":{\"colorbar\":{\"outlinewidth\":0,\"ticks\":\"\"}}}],\"scatterternary\":[{\"type\":\"scatterternary\",\"marker\":{\"colorbar\":{\"outlinewidth\":0,\"ticks\":\"\"}}}],\"scattercarpet\":[{\"type\":\"scattercarpet\",\"marker\":{\"colorbar\":{\"outlinewidth\":0,\"ticks\":\"\"}}}],\"carpet\":[{\"aaxis\":{\"endlinecolor\":\"#2a3f5f\",\"gridcolor\":\"white\",\"linecolor\":\"white\",\"minorgridcolor\":\"white\",\"startlinecolor\":\"#2a3f5f\"},\"baxis\":{\"endlinecolor\":\"#2a3f5f\",\"gridcolor\":\"white\",\"linecolor\":\"white\",\"minorgridcolor\":\"white\",\"startlinecolor\":\"#2a3f5f\"},\"type\":\"carpet\"}],\"table\":[{\"cells\":{\"fill\":{\"color\":\"#EBF0F8\"},\"line\":{\"color\":\"white\"}},\"header\":{\"fill\":{\"color\":\"#C8D4E3\"},\"line\":{\"color\":\"white\"}},\"type\":\"table\"}],\"barpolar\":[{\"marker\":{\"line\":{\"color\":\"#E5ECF6\",\"width\":0.5},\"pattern\":{\"fillmode\":\"overlay\",\"size\":10,\"solidity\":0.2}},\"type\":\"barpolar\"}],\"pie\":[{\"automargin\":true,\"type\":\"pie\"}]},\"layout\":{\"autotypenumbers\":\"strict\",\"colorway\":[\"#636efa\",\"#EF553B\",\"#00cc96\",\"#ab63fa\",\"#FFA15A\",\"#19d3f3\",\"#FF6692\",\"#B6E880\",\"#FF97FF\",\"#FECB52\"],\"font\":{\"color\":\"#2a3f5f\"},\"hovermode\":\"closest\",\"hoverlabel\":{\"align\":\"left\"},\"paper_bgcolor\":\"white\",\"plot_bgcolor\":\"#E5ECF6\",\"polar\":{\"bgcolor\":\"#E5ECF6\",\"angularaxis\":{\"gridcolor\":\"white\",\"linecolor\":\"white\",\"ticks\":\"\"},\"radialaxis\":{\"gridcolor\":\"white\",\"linecolor\":\"white\",\"ticks\":\"\"}},\"ternary\":{\"bgcolor\":\"#E5ECF6\",\"aaxis\":{\"gridcolor\":\"white\",\"linecolor\":\"white\",\"ticks\":\"\"},\"baxis\":{\"gridcolor\":\"white\",\"linecolor\":\"white\",\"ticks\":\"\"},\"caxis\":{\"gridcolor\":\"white\",\"linecolor\":\"white\",\"ticks\":\"\"}},\"coloraxis\":{\"colorbar\":{\"outlinewidth\":0,\"ticks\":\"\"}},\"colorscale\":{\"sequential\":[[0.0,\"#0d0887\"],[0.1111111111111111,\"#46039f\"],[0.2222222222222222,\"#7201a8\"],[0.3333333333333333,\"#9c179e\"],[0.4444444444444444,\"#bd3786\"],[0.5555555555555556,\"#d8576b\"],[0.6666666666666666,\"#ed7953\"],[0.7777777777777778,\"#fb9f3a\"],[0.8888888888888888,\"#fdca26\"],[1.0,\"#f0f921\"]],\"sequentialminus\":[[0.0,\"#0d0887\"],[0.1111111111111111,\"#46039f\"],[0.2222222222222222,\"#7201a8\"],[0.3333333333333333,\"#9c179e\"],[0.4444444444444444,\"#bd3786\"],[0.5555555555555556,\"#d8576b\"],[0.6666666666666666,\"#ed7953\"],[0.7777777777777778,\"#fb9f3a\"],[0.8888888888888888,\"#fdca26\"],[1.0,\"#f0f921\"]],\"diverging\":[[0,\"#8e0152\"],[0.1,\"#c51b7d\"],[0.2,\"#de77ae\"],[0.3,\"#f1b6da\"],[0.4,\"#fde0ef\"],[0.5,\"#f7f7f7\"],[0.6,\"#e6f5d0\"],[0.7,\"#b8e186\"],[0.8,\"#7fbc41\"],[0.9,\"#4d9221\"],[1,\"#276419\"]]},\"xaxis\":{\"gridcolor\":\"white\",\"linecolor\":\"white\",\"ticks\":\"\",\"title\":{\"standoff\":15},\"zerolinecolor\":\"white\",\"automargin\":true,\"zerolinewidth\":2},\"yaxis\":{\"gridcolor\":\"white\",\"linecolor\":\"white\",\"ticks\":\"\",\"title\":{\"standoff\":15},\"zerolinecolor\":\"white\",\"automargin\":true,\"zerolinewidth\":2},\"scene\":{\"xaxis\":{\"backgroundcolor\":\"#E5ECF6\",\"gridcolor\":\"white\",\"linecolor\":\"white\",\"showbackground\":true,\"ticks\":\"\",\"zerolinecolor\":\"white\",\"gridwidth\":2},\"yaxis\":{\"backgroundcolor\":\"#E5ECF6\",\"gridcolor\":\"white\",\"linecolor\":\"white\",\"showbackground\":true,\"ticks\":\"\",\"zerolinecolor\":\"white\",\"gridwidth\":2},\"zaxis\":{\"backgroundcolor\":\"#E5ECF6\",\"gridcolor\":\"white\",\"linecolor\":\"white\",\"showbackground\":true,\"ticks\":\"\",\"zerolinecolor\":\"white\",\"gridwidth\":2}},\"shapedefaults\":{\"line\":{\"color\":\"#2a3f5f\"}},\"annotationdefaults\":{\"arrowcolor\":\"#2a3f5f\",\"arrowhead\":0,\"arrowwidth\":1},\"geo\":{\"bgcolor\":\"white\",\"landcolor\":\"#E5ECF6\",\"subunitcolor\":\"white\",\"showland\":true,\"showlakes\":true,\"lakecolor\":\"white\"},\"title\":{\"x\":0.05},\"mapbox\":{\"style\":\"light\"}}},\"xaxis\":{\"anchor\":\"y\",\"domain\":[0.0,0.45]},\"yaxis\":{\"anchor\":\"x\",\"domain\":[0.0,1.0]},\"xaxis2\":{\"anchor\":\"y2\",\"domain\":[0.55,1.0],\"title\":{\"text\":\"X\"}},\"yaxis2\":{\"anchor\":\"x2\",\"domain\":[0.0,1.0],\"title\":{\"text\":\"Y\"}},\"annotations\":[{\"font\":{\"size\":16},\"showarrow\":false,\"text\":\"Velocity-Amplitude\",\"x\":0.225,\"xanchor\":\"center\",\"xref\":\"paper\",\"y\":1.0,\"yanchor\":\"bottom\",\"yref\":\"paper\"},{\"font\":{\"size\":16},\"showarrow\":false,\"text\":\"Force-Amplitude\",\"x\":0.775,\"xanchor\":\"center\",\"xref\":\"paper\",\"y\":1.0,\"yanchor\":\"bottom\",\"yref\":\"paper\"}],\"height\":525,\"width\":1000},                        {\"responsive\": true}                    ).then(function(){\n",
              "                            \n",
              "var gd = document.getElementById('ff4f9a02-033c-48ed-8e11-6a2bfcab6def');\n",
              "var x = new MutationObserver(function (mutations, observer) {{\n",
              "        var display = window.getComputedStyle(gd).display;\n",
              "        if (!display || display === 'none') {{\n",
              "            console.log([gd, 'removed!']);\n",
              "            Plotly.purge(gd);\n",
              "            observer.disconnect();\n",
              "        }}\n",
              "}});\n",
              "\n",
              "// Listen for the removal of the full notebook cells\n",
              "var notebookContainer = gd.closest('#notebook-container');\n",
              "if (notebookContainer) {{\n",
              "    x.observe(notebookContainer, {childList: true});\n",
              "}}\n",
              "\n",
              "// Listen for the clearing of the current output cell\n",
              "var outputEl = gd.closest('.output');\n",
              "if (outputEl) {{\n",
              "    x.observe(outputEl, {childList: true});\n",
              "}}\n",
              "\n",
              "                        })                };                            </script>        </div>\n",
              "</body>\n",
              "</html>"
            ]
          },
          "metadata": {},
          "output_type": "display_data"
        }
      ],
      "source": [
        "# Plot\n",
        "fig = make_subplots(rows=1, cols=2, subplot_titles=('Velocity-Amplitude', 'Force-Amplitude'))\n",
        "\n",
        "fig.add_heatmap(x=np.arange(0,15),y=np.arange(0,15),z=np.squeeze(vImages[7,:]), row=1, col=1,\n",
        "                # zmin=0, zmax=1.1,\n",
        "                showscale=True,\n",
        "                # zsmooth='best',\n",
        "                colorscale='Viridis',\n",
        "                )\n",
        "\n",
        "\n",
        "fig.layout.xaxis2.title = 'X'\n",
        "fig.layout.yaxis2.title = 'Y'\n",
        "# fig.layout.xaxis3.title = 'X'\n",
        "# fig.layout.yaxis3.title = 'Y'\n",
        "\n",
        "fig.update_layout(height=525,width=1000)\n",
        "fig"
      ]
    },
    {
      "cell_type": "code",
      "execution_count": null,
      "metadata": {
        "id": "LkUx9NgI_hXv"
      },
      "outputs": [],
      "source": []
    }
  ],
  "metadata": {
    "colab": {
      "provenance": []
    },
    "kernelspec": {
      "display_name": "Python 3 (ipykernel)",
      "language": "python",
      "name": "python3"
    },
    "language_info": {
      "codemirror_mode": {
        "name": "ipython",
        "version": 3
      },
      "file_extension": ".py",
      "mimetype": "text/x-python",
      "name": "python",
      "nbconvert_exporter": "python",
      "pygments_lexer": "ipython3",
      "version": "3.10.5"
    },
    "widgets": {
      "application/vnd.jupyter.widget-state+json": {
        "13d479801c0b4b10aeb9d1922c8dbede": {
          "model_module": "@jupyter-widgets/controls",
          "model_module_version": "1.5.0",
          "model_name": "ProgressStyleModel",
          "state": {
            "_model_module": "@jupyter-widgets/controls",
            "_model_module_version": "1.5.0",
            "_model_name": "ProgressStyleModel",
            "_view_count": null,
            "_view_module": "@jupyter-widgets/base",
            "_view_module_version": "1.2.0",
            "_view_name": "StyleView",
            "bar_color": null,
            "description_width": ""
          }
        },
        "173b5a2890264aa9bae9530ffd87a398": {
          "model_module": "@jupyter-widgets/controls",
          "model_module_version": "1.5.0",
          "model_name": "DescriptionStyleModel",
          "state": {
            "_model_module": "@jupyter-widgets/controls",
            "_model_module_version": "1.5.0",
            "_model_name": "DescriptionStyleModel",
            "_view_count": null,
            "_view_module": "@jupyter-widgets/base",
            "_view_module_version": "1.2.0",
            "_view_name": "StyleView",
            "description_width": ""
          }
        },
        "18cdb00b6a334914b5e24eee93278e7b": {
          "model_module": "@jupyter-widgets/controls",
          "model_module_version": "1.5.0",
          "model_name": "HTMLModel",
          "state": {
            "_dom_classes": [],
            "_model_module": "@jupyter-widgets/controls",
            "_model_module_version": "1.5.0",
            "_model_name": "HTMLModel",
            "_view_count": null,
            "_view_module": "@jupyter-widgets/controls",
            "_view_module_version": "1.5.0",
            "_view_name": "HTMLView",
            "description": "",
            "description_tooltip": null,
            "layout": "IPY_MODEL_2b54ea66c01647728bf0f133f6b462cd",
            "placeholder": "​",
            "style": "IPY_MODEL_bdccc6a9d53a4d0888e5229fcf77d47f",
            "value": " 100/100 [00:06&lt;00:00, 11.40it/s]"
          }
        },
        "1a5ebd267a7943b8b70111bb47d147f7": {
          "model_module": "@jupyter-widgets/controls",
          "model_module_version": "1.5.0",
          "model_name": "FloatProgressModel",
          "state": {
            "_dom_classes": [],
            "_model_module": "@jupyter-widgets/controls",
            "_model_module_version": "1.5.0",
            "_model_name": "FloatProgressModel",
            "_view_count": null,
            "_view_module": "@jupyter-widgets/controls",
            "_view_module_version": "1.5.0",
            "_view_name": "ProgressView",
            "bar_style": "success",
            "description": "",
            "description_tooltip": null,
            "layout": "IPY_MODEL_aea03b2d71784b1198ff54c3bcdee72a",
            "max": 100,
            "min": 0,
            "orientation": "horizontal",
            "style": "IPY_MODEL_13d479801c0b4b10aeb9d1922c8dbede",
            "value": 100
          }
        },
        "2167100a074e467a8c1f6ebcdd4212d7": {
          "model_module": "@jupyter-widgets/controls",
          "model_module_version": "1.5.0",
          "model_name": "HBoxModel",
          "state": {
            "_dom_classes": [],
            "_model_module": "@jupyter-widgets/controls",
            "_model_module_version": "1.5.0",
            "_model_name": "HBoxModel",
            "_view_count": null,
            "_view_module": "@jupyter-widgets/controls",
            "_view_module_version": "1.5.0",
            "_view_name": "HBoxView",
            "box_style": "",
            "children": [
              "IPY_MODEL_7737eb3a0c2a492e8945021ceb319b7f",
              "IPY_MODEL_1a5ebd267a7943b8b70111bb47d147f7",
              "IPY_MODEL_18cdb00b6a334914b5e24eee93278e7b"
            ],
            "layout": "IPY_MODEL_e7771e977d174a7a9abcba2413ded84e"
          }
        },
        "2b54ea66c01647728bf0f133f6b462cd": {
          "model_module": "@jupyter-widgets/base",
          "model_module_version": "1.2.0",
          "model_name": "LayoutModel",
          "state": {
            "_model_module": "@jupyter-widgets/base",
            "_model_module_version": "1.2.0",
            "_model_name": "LayoutModel",
            "_view_count": null,
            "_view_module": "@jupyter-widgets/base",
            "_view_module_version": "1.2.0",
            "_view_name": "LayoutView",
            "align_content": null,
            "align_items": null,
            "align_self": null,
            "border": null,
            "bottom": null,
            "display": null,
            "flex": null,
            "flex_flow": null,
            "grid_area": null,
            "grid_auto_columns": null,
            "grid_auto_flow": null,
            "grid_auto_rows": null,
            "grid_column": null,
            "grid_gap": null,
            "grid_row": null,
            "grid_template_areas": null,
            "grid_template_columns": null,
            "grid_template_rows": null,
            "height": null,
            "justify_content": null,
            "justify_items": null,
            "left": null,
            "margin": null,
            "max_height": null,
            "max_width": null,
            "min_height": null,
            "min_width": null,
            "object_fit": null,
            "object_position": null,
            "order": null,
            "overflow": null,
            "overflow_x": null,
            "overflow_y": null,
            "padding": null,
            "right": null,
            "top": null,
            "visibility": null,
            "width": null
          }
        },
        "434a499bfb194fe2b5ed3be8f7d57992": {
          "model_module": "@jupyter-widgets/base",
          "model_module_version": "1.2.0",
          "model_name": "LayoutModel",
          "state": {
            "_model_module": "@jupyter-widgets/base",
            "_model_module_version": "1.2.0",
            "_model_name": "LayoutModel",
            "_view_count": null,
            "_view_module": "@jupyter-widgets/base",
            "_view_module_version": "1.2.0",
            "_view_name": "LayoutView",
            "align_content": null,
            "align_items": null,
            "align_self": null,
            "border": null,
            "bottom": null,
            "display": null,
            "flex": null,
            "flex_flow": null,
            "grid_area": null,
            "grid_auto_columns": null,
            "grid_auto_flow": null,
            "grid_auto_rows": null,
            "grid_column": null,
            "grid_gap": null,
            "grid_row": null,
            "grid_template_areas": null,
            "grid_template_columns": null,
            "grid_template_rows": null,
            "height": null,
            "justify_content": null,
            "justify_items": null,
            "left": null,
            "margin": null,
            "max_height": null,
            "max_width": null,
            "min_height": null,
            "min_width": null,
            "object_fit": null,
            "object_position": null,
            "order": null,
            "overflow": null,
            "overflow_x": null,
            "overflow_y": null,
            "padding": null,
            "right": null,
            "top": null,
            "visibility": null,
            "width": null
          }
        },
        "7737eb3a0c2a492e8945021ceb319b7f": {
          "model_module": "@jupyter-widgets/controls",
          "model_module_version": "1.5.0",
          "model_name": "HTMLModel",
          "state": {
            "_dom_classes": [],
            "_model_module": "@jupyter-widgets/controls",
            "_model_module_version": "1.5.0",
            "_model_name": "HTMLModel",
            "_view_count": null,
            "_view_module": "@jupyter-widgets/controls",
            "_view_module_version": "1.5.0",
            "_view_name": "HTMLView",
            "description": "",
            "description_tooltip": null,
            "layout": "IPY_MODEL_434a499bfb194fe2b5ed3be8f7d57992",
            "placeholder": "​",
            "style": "IPY_MODEL_173b5a2890264aa9bae9530ffd87a398",
            "value": "100%"
          }
        },
        "aea03b2d71784b1198ff54c3bcdee72a": {
          "model_module": "@jupyter-widgets/base",
          "model_module_version": "1.2.0",
          "model_name": "LayoutModel",
          "state": {
            "_model_module": "@jupyter-widgets/base",
            "_model_module_version": "1.2.0",
            "_model_name": "LayoutModel",
            "_view_count": null,
            "_view_module": "@jupyter-widgets/base",
            "_view_module_version": "1.2.0",
            "_view_name": "LayoutView",
            "align_content": null,
            "align_items": null,
            "align_self": null,
            "border": null,
            "bottom": null,
            "display": null,
            "flex": null,
            "flex_flow": null,
            "grid_area": null,
            "grid_auto_columns": null,
            "grid_auto_flow": null,
            "grid_auto_rows": null,
            "grid_column": null,
            "grid_gap": null,
            "grid_row": null,
            "grid_template_areas": null,
            "grid_template_columns": null,
            "grid_template_rows": null,
            "height": null,
            "justify_content": null,
            "justify_items": null,
            "left": null,
            "margin": null,
            "max_height": null,
            "max_width": null,
            "min_height": null,
            "min_width": null,
            "object_fit": null,
            "object_position": null,
            "order": null,
            "overflow": null,
            "overflow_x": null,
            "overflow_y": null,
            "padding": null,
            "right": null,
            "top": null,
            "visibility": null,
            "width": null
          }
        },
        "bdccc6a9d53a4d0888e5229fcf77d47f": {
          "model_module": "@jupyter-widgets/controls",
          "model_module_version": "1.5.0",
          "model_name": "DescriptionStyleModel",
          "state": {
            "_model_module": "@jupyter-widgets/controls",
            "_model_module_version": "1.5.0",
            "_model_name": "DescriptionStyleModel",
            "_view_count": null,
            "_view_module": "@jupyter-widgets/base",
            "_view_module_version": "1.2.0",
            "_view_name": "StyleView",
            "description_width": ""
          }
        },
        "e7771e977d174a7a9abcba2413ded84e": {
          "model_module": "@jupyter-widgets/base",
          "model_module_version": "1.2.0",
          "model_name": "LayoutModel",
          "state": {
            "_model_module": "@jupyter-widgets/base",
            "_model_module_version": "1.2.0",
            "_model_name": "LayoutModel",
            "_view_count": null,
            "_view_module": "@jupyter-widgets/base",
            "_view_module_version": "1.2.0",
            "_view_name": "LayoutView",
            "align_content": null,
            "align_items": null,
            "align_self": null,
            "border": null,
            "bottom": null,
            "display": null,
            "flex": null,
            "flex_flow": null,
            "grid_area": null,
            "grid_auto_columns": null,
            "grid_auto_flow": null,
            "grid_auto_rows": null,
            "grid_column": null,
            "grid_gap": null,
            "grid_row": null,
            "grid_template_areas": null,
            "grid_template_columns": null,
            "grid_template_rows": null,
            "height": null,
            "justify_content": null,
            "justify_items": null,
            "left": null,
            "margin": null,
            "max_height": null,
            "max_width": null,
            "min_height": null,
            "min_width": null,
            "object_fit": null,
            "object_position": null,
            "order": null,
            "overflow": null,
            "overflow_x": null,
            "overflow_y": null,
            "padding": null,
            "right": null,
            "top": null,
            "visibility": null,
            "width": null
          }
        }
      }
    }
  },
  "nbformat": 4,
  "nbformat_minor": 0
}
